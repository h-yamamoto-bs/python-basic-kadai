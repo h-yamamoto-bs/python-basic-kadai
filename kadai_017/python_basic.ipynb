{
  "nbformat": 4,
  "nbformat_minor": 0,
  "metadata": {
    "colab": {
      "provenance": []
    },
    "kernelspec": {
      "name": "python3",
      "display_name": "Python 3"
    },
    "language_info": {
      "name": "python"
    }
  },
  "cells": [
    {
      "cell_type": "code",
      "source": [
        "# クラスの作成\n",
        "class Human:\n",
        "\n",
        "  # インスタンス\n",
        "  def __init__(self, name, age):\n",
        "    self.name  = name\n",
        "    self.age = age\n",
        "\n",
        "  # 大人か判断するメソッド\n",
        "  def check_adult(self):\n",
        "    if self.age >= 20:\n",
        "      print('大人である')\n",
        "    else:\n",
        "      print('大人でない')\n",
        "\n",
        "# ユーザーリスト\n",
        "humans = [\n",
        "    Human('user-1', 16),\n",
        "    Human('user-2', 17),\n",
        "    Human('user-3', 18),\n",
        "    Human('user-4', 19),\n",
        "    Human('user-5', 20),\n",
        "    Human('user-6', 21),\n",
        "    Human('user-7', 22),\n",
        "    Human('user-8', 23),\n",
        "    Human('user-9', 24),\n",
        "    Human('user-10', 25),\n",
        "         ]\n",
        "\n",
        "# 全てのユーザーを出力\n",
        "for user in humans:\n",
        "  user.check_adult()"
      ],
      "metadata": {
        "colab": {
          "base_uri": "https://localhost:8080/"
        },
        "id": "ytOebGCIcuEl",
        "outputId": "022bb86c-749e-4519-de56-f79350f9d6cf"
      },
      "execution_count": 28,
      "outputs": [
        {
          "output_type": "stream",
          "name": "stdout",
          "text": [
            "子供\n",
            "子供\n",
            "子供\n",
            "子供\n",
            "大人\n",
            "大人\n",
            "大人\n",
            "大人\n",
            "大人\n",
            "大人\n"
          ]
        }
      ]
    }
  ]
}