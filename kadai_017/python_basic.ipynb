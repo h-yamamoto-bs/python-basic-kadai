{
  "nbformat": 4,
  "nbformat_minor": 0,
  "metadata": {
    "colab": {
      "provenance": []
    },
    "kernelspec": {
      "name": "python3",
      "display_name": "Python 3"
    },
    "language_info": {
      "name": "python"
    }
  },
  "cells": [
    {
      "cell_type": "code",
      "source": [
        "# クラスの作成\n",
        "class Human:\n",
        "\n",
        "  # インスタンス\n",
        "  def __init__(self, name, age):\n",
        "    self.name  = name\n",
        "    self.age = age\n",
        "\n",
        "  # お酒を飲めるか判断するメソッド\n",
        "  def check_adult(self):\n",
        "    if self.age >= 18:\n",
        "      print(f'{self.name}は{self.age}歳なので大人です')\n",
        "    else:\n",
        "      print(f'{self.name}は{self.age}歳なので大人ではありません。')\n",
        "\n",
        "# ユーザーリスト\n",
        "humans = [\n",
        "    Human('user-1', 16),\n",
        "    Human('user-2', 17),\n",
        "    Human('user-3', 18),\n",
        "    Human('user-4', 19),\n",
        "    Human('user-5', 20),\n",
        "    Human('user-6', 21),\n",
        "    Human('user-7', 22),\n",
        "    Human('user-8', 23),\n",
        "    Human('user-9', 24),\n",
        "    Human('user-10', 25),\n",
        "         ]\n",
        "\n",
        "# 全てのユーザーを出力\n",
        "for user in humans:\n",
        "  user.check_adult()"
      ],
      "metadata": {
        "colab": {
          "base_uri": "https://localhost:8080/"
        },
        "id": "ytOebGCIcuEl",
        "outputId": "fdd763da-efb0-4a86-c8e2-41d535631a0d"
      },
      "execution_count": 27,
      "outputs": [
        {
          "output_type": "stream",
          "name": "stdout",
          "text": [
            "user-1は16歳なので大人ではありません。\n",
            "user-2は17歳なので大人ではありません。\n",
            "user-3は18歳なので大人です\n",
            "user-4は19歳なので大人です\n",
            "user-5は20歳なので大人です\n",
            "user-6は21歳なので大人です\n",
            "user-7は22歳なので大人です\n",
            "user-8は23歳なので大人です\n",
            "user-9は24歳なので大人です\n",
            "user-10は25歳なので大人です\n"
          ]
        }
      ]
    }
  ]
}