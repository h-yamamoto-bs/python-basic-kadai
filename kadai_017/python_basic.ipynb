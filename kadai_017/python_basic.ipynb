{
  "nbformat": 4,
  "nbformat_minor": 0,
  "metadata": {
    "colab": {
      "provenance": []
    },
    "kernelspec": {
      "name": "python3",
      "display_name": "Python 3"
    },
    "language_info": {
      "name": "python"
    }
  },
  "cells": [
    {
      "cell_type": "code",
      "source": [
        "# クラスの作成\n",
        "class Human:\n",
        "\n",
        "  # インスタンス\n",
        "  def __init__(self, name, age):\n",
        "    self.name  = name\n",
        "    self.age = age\n",
        "\n",
        "  # お酒を飲めるか判断するメソッド\n",
        "  def check_adult(self) -> bool:\n",
        "    return self.age >= 20\n",
        "\n",
        "  # 飲酒できるかどうか表示\n",
        "  def alert(self, alcohol):\n",
        "    if alcohol:\n",
        "      print(f'{name}は{age}歳なのでお酒が飲めます')\n",
        "    else:\n",
        "      print(f'{name}は{age}歳なのでお酒が飲めません')\n",
        "\n",
        "# 年齢を作成するためのモジュールをインポート\n",
        "import random\n",
        "\n",
        "# ユーザーリスト\n",
        "names = ['user-1',\n",
        "         'user-2',\n",
        "         'user-3',\n",
        "         'user-4',\n",
        "         'user-5',\n",
        "         'user-6',\n",
        "         'user-7',\n",
        "         'user-8',\n",
        "         'user-9',\n",
        "         'user-10'\n",
        "         ]\n",
        "\n",
        "# 年齢を格納する変数の\n",
        "age = 0\n",
        "\n",
        "# 20歳以上か判断した結果を格納する変数\n",
        "alcohol = False\n",
        "\n",
        "# 10人のユーザーを作成\n",
        "for name in names:\n",
        "\n",
        "  # 年齢の作成\n",
        "  age = random.randint(1, 80)\n",
        "\n",
        "  # クラスの作成\n",
        "  user = Human(name, age)\n",
        "\n",
        "  # お酒が飲めるか判断\n",
        "  alcohol = user.check_adult()\n",
        "\n",
        "  # ユーザー情報の格納\n",
        "  user_info = {'name': name, 'age': age, 'alcohol': alcohol}\n",
        "\n",
        "  # 出力\n",
        "  user.alert(alcohol)\n",
        "  print(user_info)"
      ],
      "metadata": {
        "colab": {
          "base_uri": "https://localhost:8080/"
        },
        "id": "ytOebGCIcuEl",
        "outputId": "5ead2d29-72fa-448b-97ed-55331725dfd4"
      },
      "execution_count": 19,
      "outputs": [
        {
          "output_type": "stream",
          "name": "stdout",
          "text": [
            "user-1は55歳なのでお酒が飲めます\n",
            "{'name': 'user-1', 'age': 55, 'alcohol': True}\n",
            "user-2は10歳なのでお酒が飲めません\n",
            "{'name': 'user-2', 'age': 10, 'alcohol': False}\n",
            "user-3は70歳なのでお酒が飲めます\n",
            "{'name': 'user-3', 'age': 70, 'alcohol': True}\n",
            "user-4は68歳なのでお酒が飲めます\n",
            "{'name': 'user-4', 'age': 68, 'alcohol': True}\n",
            "user-5は59歳なのでお酒が飲めます\n",
            "{'name': 'user-5', 'age': 59, 'alcohol': True}\n",
            "user-6は76歳なのでお酒が飲めます\n",
            "{'name': 'user-6', 'age': 76, 'alcohol': True}\n",
            "user-7は6歳なのでお酒が飲めません\n",
            "{'name': 'user-7', 'age': 6, 'alcohol': False}\n",
            "user-8は18歳なのでお酒が飲めません\n",
            "{'name': 'user-8', 'age': 18, 'alcohol': False}\n",
            "user-9は70歳なのでお酒が飲めます\n",
            "{'name': 'user-9', 'age': 70, 'alcohol': True}\n",
            "user-10は1歳なのでお酒が飲めません\n",
            "{'name': 'user-10', 'age': 1, 'alcohol': False}\n"
          ]
        }
      ]
    }
  ]
}